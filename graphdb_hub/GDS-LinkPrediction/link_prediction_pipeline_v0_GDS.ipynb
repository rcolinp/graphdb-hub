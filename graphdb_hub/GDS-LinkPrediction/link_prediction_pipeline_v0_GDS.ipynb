{
 "cells": [
  {
   "cell_type": "code",
   "execution_count": 1,
   "id": "160e845d",
   "metadata": {},
   "outputs": [],
   "source": [
    "import os\n",
    "import pandas as pd\n",
    "import numpy as np\n",
    "from graphdatascience import GraphDataScience\n",
    "from dotenv import load_dotenv, find_dotenv\n",
    "\n",
    "pd.set_option(\"display.max_rows\", 999)\n",
    "pd.set_option(\"display.max_columns\", None)\n",
    "pd.set_option(\"display.max_colwidth\", None)"
   ]
  },
  {
   "cell_type": "code",
   "execution_count": 2,
   "id": "1a0d8a35",
   "metadata": {},
   "outputs": [],
   "source": [
    "# Utilize python-dotenv to load AuraDS credentials securely\n",
    "\n",
    "load_dotenv(find_dotenv())\n",
    "\n",
    "NEO4J_AURA_URI = os.getenv(\"NEO4J_AURA_URI\")\n",
    "NEO4J_AURA_USR = os.getenv(\"NEO4J_AURA_USR\")\n",
    "NEO4J_AURA_PWD = os.getenv(\"NEO4J_AURA_PWD\")\n",
    "\n",
    "gds = GraphDataScience(endpoint=NEO4J_AURA_URI,\n",
    "                       auth=(NEO4J_AURA_USR, NEO4J_AURA_PWD),\n",
    "                       aura_ds=True)"
   ]
  },
  {
   "cell_type": "code",
   "execution_count": 3,
   "id": "06bb02a1",
   "metadata": {},
   "outputs": [
    {
     "name": "stdout",
     "output_type": "stream",
     "text": [
      "2.1.5\n"
     ]
    }
   ],
   "source": [
    "# Call a GDS method to verify version\n",
    "\n",
    "print(gds.version())"
   ]
  },
  {
   "cell_type": "code",
   "execution_count": 26,
   "id": "6152cac4",
   "metadata": {},
   "outputs": [
    {
     "data": {
      "text/html": [
       "<div>\n",
       "<style scoped>\n",
       "    .dataframe tbody tr th:only-of-type {\n",
       "        vertical-align: middle;\n",
       "    }\n",
       "\n",
       "    .dataframe tbody tr th {\n",
       "        vertical-align: top;\n",
       "    }\n",
       "\n",
       "    .dataframe thead th {\n",
       "        text-align: right;\n",
       "    }\n",
       "</style>\n",
       "<table border=\"1\" class=\"dataframe\">\n",
       "  <thead>\n",
       "    <tr style=\"text-align: right;\">\n",
       "      <th></th>\n",
       "      <th>modelInfo</th>\n",
       "      <th>trainConfig</th>\n",
       "      <th>graphSchema</th>\n",
       "      <th>loaded</th>\n",
       "      <th>stored</th>\n",
       "      <th>creationTime</th>\n",
       "      <th>shared</th>\n",
       "    </tr>\n",
       "  </thead>\n",
       "  <tbody>\n",
       "    <tr>\n",
       "      <th>0</th>\n",
       "      <td>{'pipeline': {'nodePropertySteps': [{'name': 'gds.fastRP.mutate', 'config': {'randomSeed': 42, 'iterationWeights': [0.8, 1, 1, 1], 'embeddingDimension': 256, 'mutateProperty': 'embedding'}}, {'name': 'gds.pageRank.mutate', 'config': {'mutateProperty': 'pageRank'}}, {'name': 'gds.betweenness.mutate', 'config': {'mutateProperty': 'betweenness'}}], 'featureSteps': [{'name': 'HADAMARD', 'config': {'nodeProperties': ['embedding', 'pageRank', 'betweenness']}}]}, 'modelName': 'lp-pipeline-model', 'modelType': 'LinkPrediction', 'metrics': {'AUCPR': {'test': 0.7426907040948699, 'outerTrain': 0.7697504245867193, 'validation': {'avg': 0.9503151747573046, 'min': 0.871381625279237, 'max': 0.9966501752216039}, 'train': {'avg': 0.959932645328202, 'min': 0.953883287355528, 'max': 0.9711247646872891}}}, 'bestParameters': {'maxEpochs': 500, 'minEpochs': 1, 'penalty': 0.1, 'patience': 1, 'methodName': 'LogisticRegression', 'batchSize': 100, 'tolerance': 0.01, 'learningRate': 0.001}}</td>\n",
       "      <td>{'pipeline': 'pipe', 'randomSeed': 42, 'graphName': 'compound', 'jobId': '76114c78-d828-4373-956b-0dbd6f903a6f', 'modelName': 'lp-pipeline-model', 'negativeClassWeight': 1.0, 'metrics': ['AUCPR'], 'nodeLabels': ['*'], 'sudo': False, 'relationshipTypes': ['*'], 'concurrency': 4, 'username': None}</td>\n",
       "      <td>{'graphProperties': {}, 'relationships': {'TREATS_CtD': {}}, 'nodes': {'Disease': {}, 'Compound': {}}}</td>\n",
       "      <td>False</td>\n",
       "      <td>True</td>\n",
       "      <td>2022-07-15T13:49:26.516842000+00:00</td>\n",
       "      <td>False</td>\n",
       "    </tr>\n",
       "  </tbody>\n",
       "</table>\n",
       "</div>"
      ],
      "text/plain": [
       "                                                                                                                                                                                                                                                                                                                                                                                                                                                                                                                                                                                                                                                                                                                                                                                                                                                                                                                                                                                                            modelInfo  \\\n",
       "0  {'pipeline': {'nodePropertySteps': [{'name': 'gds.fastRP.mutate', 'config': {'randomSeed': 42, 'iterationWeights': [0.8, 1, 1, 1], 'embeddingDimension': 256, 'mutateProperty': 'embedding'}}, {'name': 'gds.pageRank.mutate', 'config': {'mutateProperty': 'pageRank'}}, {'name': 'gds.betweenness.mutate', 'config': {'mutateProperty': 'betweenness'}}], 'featureSteps': [{'name': 'HADAMARD', 'config': {'nodeProperties': ['embedding', 'pageRank', 'betweenness']}}]}, 'modelName': 'lp-pipeline-model', 'modelType': 'LinkPrediction', 'metrics': {'AUCPR': {'test': 0.7426907040948699, 'outerTrain': 0.7697504245867193, 'validation': {'avg': 0.9503151747573046, 'min': 0.871381625279237, 'max': 0.9966501752216039}, 'train': {'avg': 0.959932645328202, 'min': 0.953883287355528, 'max': 0.9711247646872891}}}, 'bestParameters': {'maxEpochs': 500, 'minEpochs': 1, 'penalty': 0.1, 'patience': 1, 'methodName': 'LogisticRegression', 'batchSize': 100, 'tolerance': 0.01, 'learningRate': 0.001}}   \n",
       "\n",
       "                                                                                                                                                                                                                                                                                                trainConfig  \\\n",
       "0  {'pipeline': 'pipe', 'randomSeed': 42, 'graphName': 'compound', 'jobId': '76114c78-d828-4373-956b-0dbd6f903a6f', 'modelName': 'lp-pipeline-model', 'negativeClassWeight': 1.0, 'metrics': ['AUCPR'], 'nodeLabels': ['*'], 'sudo': False, 'relationshipTypes': ['*'], 'concurrency': 4, 'username': None}   \n",
       "\n",
       "                                                                                              graphSchema  \\\n",
       "0  {'graphProperties': {}, 'relationships': {'TREATS_CtD': {}}, 'nodes': {'Disease': {}, 'Compound': {}}}   \n",
       "\n",
       "   loaded  stored                         creationTime  shared  \n",
       "0   False    True  2022-07-15T13:49:26.516842000+00:00   False  "
      ]
     },
     "execution_count": 26,
     "metadata": {},
     "output_type": "execute_result"
    }
   ],
   "source": [
    "# Check Projected Graphs\n",
    "\n",
    "gds.run_cypher(\"CALL gds.graph.list();\")\n",
    "\n",
    "# Check Pipelines\n",
    "gds.run_cypher(\"CALL gds.beta.pipeline.list();\")\n",
    "\n",
    "# Check Models\n",
    "gds.run_cypher(\"CALL gds.beta.model.list();\")"
   ]
  },
  {
   "cell_type": "markdown",
   "id": "4d8e40bb",
   "metadata": {},
   "source": [
    "# Create Link Prediction Pipeline"
   ]
  },
  {
   "cell_type": "code",
   "execution_count": 27,
   "id": "cf9014f8",
   "metadata": {},
   "outputs": [
    {
     "name": "stdout",
     "output_type": "stream",
     "text": [
      "\n",
      "CALL gds.beta.pipeline.linkPrediction.create('pipe')\n",
      "YIELD name, nodePropertySteps, featureSteps, splitConfig, autoTuningConfig, parameterSpace;\n",
      "\n"
     ]
    },
    {
     "data": {
      "text/html": [
       "<div>\n",
       "<style scoped>\n",
       "    .dataframe tbody tr th:only-of-type {\n",
       "        vertical-align: middle;\n",
       "    }\n",
       "\n",
       "    .dataframe tbody tr th {\n",
       "        vertical-align: top;\n",
       "    }\n",
       "\n",
       "    .dataframe thead th {\n",
       "        text-align: right;\n",
       "    }\n",
       "</style>\n",
       "<table border=\"1\" class=\"dataframe\">\n",
       "  <thead>\n",
       "    <tr style=\"text-align: right;\">\n",
       "      <th></th>\n",
       "      <th>name</th>\n",
       "      <th>nodePropertySteps</th>\n",
       "      <th>featureSteps</th>\n",
       "      <th>splitConfig</th>\n",
       "      <th>autoTuningConfig</th>\n",
       "      <th>parameterSpace</th>\n",
       "    </tr>\n",
       "  </thead>\n",
       "  <tbody>\n",
       "    <tr>\n",
       "      <th>0</th>\n",
       "      <td>pipe</td>\n",
       "      <td>[]</td>\n",
       "      <td>[]</td>\n",
       "      <td>{'negativeSamplingRatio': 1.0, 'testFraction': 0.1, 'validationFolds': 3, 'trainFraction': 0.1}</td>\n",
       "      <td>{'maxTrials': 10}</td>\n",
       "      <td>{'RandomForest': [], 'LogisticRegression': []}</td>\n",
       "    </tr>\n",
       "  </tbody>\n",
       "</table>\n",
       "</div>"
      ],
      "text/plain": [
       "   name nodePropertySteps featureSteps  \\\n",
       "0  pipe                []           []   \n",
       "\n",
       "                                                                                       splitConfig  \\\n",
       "0  {'negativeSamplingRatio': 1.0, 'testFraction': 0.1, 'validationFolds': 3, 'trainFraction': 0.1}   \n",
       "\n",
       "    autoTuningConfig                                  parameterSpace  \n",
       "0  {'maxTrials': 10}  {'RandomForest': [], 'LogisticRegression': []}  "
      ]
     },
     "execution_count": 27,
     "metadata": {},
     "output_type": "execute_result"
    }
   ],
   "source": [
    "gds.run_cypher(\"CALL gds.beta.model.drop('lp-pipeline-model')\")\n",
    "\n",
    "q = f'''\n",
    "CALL gds.beta.pipeline.linkPrediction.create('pipe')\n",
    "YIELD name, nodePropertySteps, featureSteps, splitConfig, autoTuningConfig, parameterSpace;\n",
    "'''\n",
    "print(q)\n",
    "gds.run_cypher(q)"
   ]
  },
  {
   "cell_type": "markdown",
   "id": "2bbb582f",
   "metadata": {},
   "source": [
    "# Add Fast RP Embeddings\n",
    "- fastRP algo in mutate mode (before training) ensures the embedding property can be used as an input for link features"
   ]
  },
  {
   "cell_type": "code",
   "execution_count": 28,
   "id": "b7384028",
   "metadata": {},
   "outputs": [
    {
     "name": "stdout",
     "output_type": "stream",
     "text": [
      "\n",
      "CALL gds.beta.pipeline.linkPrediction.addNodeProperty('pipe', 'fastRP', {\n",
      "  mutateProperty: 'embedding',\n",
      "  embeddingDimension: 256,\n",
      "  iterationWeights: [0.8, 1, 1, 1],\n",
      "  //normalizationStrength: 0.5,\n",
      "  randomSeed: 42\n",
      "});\n",
      "\n"
     ]
    },
    {
     "data": {
      "text/html": [
       "<div>\n",
       "<style scoped>\n",
       "    .dataframe tbody tr th:only-of-type {\n",
       "        vertical-align: middle;\n",
       "    }\n",
       "\n",
       "    .dataframe tbody tr th {\n",
       "        vertical-align: top;\n",
       "    }\n",
       "\n",
       "    .dataframe thead th {\n",
       "        text-align: right;\n",
       "    }\n",
       "</style>\n",
       "<table border=\"1\" class=\"dataframe\">\n",
       "  <thead>\n",
       "    <tr style=\"text-align: right;\">\n",
       "      <th></th>\n",
       "      <th>name</th>\n",
       "      <th>nodePropertySteps</th>\n",
       "      <th>featureSteps</th>\n",
       "      <th>splitConfig</th>\n",
       "      <th>autoTuningConfig</th>\n",
       "      <th>parameterSpace</th>\n",
       "    </tr>\n",
       "  </thead>\n",
       "  <tbody>\n",
       "    <tr>\n",
       "      <th>0</th>\n",
       "      <td>pipe</td>\n",
       "      <td>[{'name': 'gds.fastRP.mutate', 'config': {'randomSeed': 42, 'iterationWeights': [0.8, 1, 1, 1], 'embeddingDimension': 256, 'mutateProperty': 'embedding'}}]</td>\n",
       "      <td>[]</td>\n",
       "      <td>{'negativeSamplingRatio': 1.0, 'testFraction': 0.1, 'validationFolds': 3, 'trainFraction': 0.1}</td>\n",
       "      <td>{'maxTrials': 10}</td>\n",
       "      <td>{'RandomForest': [], 'LogisticRegression': []}</td>\n",
       "    </tr>\n",
       "  </tbody>\n",
       "</table>\n",
       "</div>"
      ],
      "text/plain": [
       "   name  \\\n",
       "0  pipe   \n",
       "\n",
       "                                                                                                                                             nodePropertySteps  \\\n",
       "0  [{'name': 'gds.fastRP.mutate', 'config': {'randomSeed': 42, 'iterationWeights': [0.8, 1, 1, 1], 'embeddingDimension': 256, 'mutateProperty': 'embedding'}}]   \n",
       "\n",
       "  featureSteps  \\\n",
       "0           []   \n",
       "\n",
       "                                                                                       splitConfig  \\\n",
       "0  {'negativeSamplingRatio': 1.0, 'testFraction': 0.1, 'validationFolds': 3, 'trainFraction': 0.1}   \n",
       "\n",
       "    autoTuningConfig                                  parameterSpace  \n",
       "0  {'maxTrials': 10}  {'RandomForest': [], 'LogisticRegression': []}  "
      ]
     },
     "execution_count": 28,
     "metadata": {},
     "output_type": "execute_result"
    }
   ],
   "source": [
    "q = '''\n",
    "CALL gds.beta.pipeline.linkPrediction.addNodeProperty('pipe', 'fastRP', {\n",
    "  mutateProperty: 'embedding',\n",
    "  embeddingDimension: 256,\n",
    "  iterationWeights: [0.8, 1, 1, 1],\n",
    "  //normalizationStrength: 0.5,\n",
    "  randomSeed: 42\n",
    "});\n",
    "'''\n",
    "print(q)\n",
    "\n",
    "gds.run_cypher(q)"
   ]
  },
  {
   "cell_type": "markdown",
   "id": "faf7d2f5",
   "metadata": {},
   "source": [
    "# Add pageRank Feature"
   ]
  },
  {
   "cell_type": "code",
   "execution_count": 29,
   "id": "37c8b5ed",
   "metadata": {},
   "outputs": [
    {
     "name": "stdout",
     "output_type": "stream",
     "text": [
      "\n",
      "CALL gds.beta.pipeline.linkPrediction.addNodeProperty('pipe', 'pageRank', {\n",
      "    mutateProperty: 'pageRank'\n",
      "    });\n",
      "\n"
     ]
    },
    {
     "data": {
      "text/html": [
       "<div>\n",
       "<style scoped>\n",
       "    .dataframe tbody tr th:only-of-type {\n",
       "        vertical-align: middle;\n",
       "    }\n",
       "\n",
       "    .dataframe tbody tr th {\n",
       "        vertical-align: top;\n",
       "    }\n",
       "\n",
       "    .dataframe thead th {\n",
       "        text-align: right;\n",
       "    }\n",
       "</style>\n",
       "<table border=\"1\" class=\"dataframe\">\n",
       "  <thead>\n",
       "    <tr style=\"text-align: right;\">\n",
       "      <th></th>\n",
       "      <th>name</th>\n",
       "      <th>nodePropertySteps</th>\n",
       "      <th>featureSteps</th>\n",
       "      <th>splitConfig</th>\n",
       "      <th>autoTuningConfig</th>\n",
       "      <th>parameterSpace</th>\n",
       "    </tr>\n",
       "  </thead>\n",
       "  <tbody>\n",
       "    <tr>\n",
       "      <th>0</th>\n",
       "      <td>pipe</td>\n",
       "      <td>[{'name': 'gds.fastRP.mutate', 'config': {'randomSeed': 42, 'iterationWeights': [0.8, 1, 1, 1], 'embeddingDimension': 256, 'mutateProperty': 'embedding'}}, {'name': 'gds.pageRank.mutate', 'config': {'mutateProperty': 'pageRank'}}]</td>\n",
       "      <td>[]</td>\n",
       "      <td>{'negativeSamplingRatio': 1.0, 'testFraction': 0.1, 'validationFolds': 3, 'trainFraction': 0.1}</td>\n",
       "      <td>{'maxTrials': 10}</td>\n",
       "      <td>{'RandomForest': [], 'LogisticRegression': []}</td>\n",
       "    </tr>\n",
       "  </tbody>\n",
       "</table>\n",
       "</div>"
      ],
      "text/plain": [
       "   name  \\\n",
       "0  pipe   \n",
       "\n",
       "                                                                                                                                                                                                                        nodePropertySteps  \\\n",
       "0  [{'name': 'gds.fastRP.mutate', 'config': {'randomSeed': 42, 'iterationWeights': [0.8, 1, 1, 1], 'embeddingDimension': 256, 'mutateProperty': 'embedding'}}, {'name': 'gds.pageRank.mutate', 'config': {'mutateProperty': 'pageRank'}}]   \n",
       "\n",
       "  featureSteps  \\\n",
       "0           []   \n",
       "\n",
       "                                                                                       splitConfig  \\\n",
       "0  {'negativeSamplingRatio': 1.0, 'testFraction': 0.1, 'validationFolds': 3, 'trainFraction': 0.1}   \n",
       "\n",
       "    autoTuningConfig                                  parameterSpace  \n",
       "0  {'maxTrials': 10}  {'RandomForest': [], 'LogisticRegression': []}  "
      ]
     },
     "execution_count": 29,
     "metadata": {},
     "output_type": "execute_result"
    }
   ],
   "source": [
    "q = '''\n",
    "CALL gds.beta.pipeline.linkPrediction.addNodeProperty('pipe', 'pageRank', {\n",
    "    mutateProperty: 'pageRank'\n",
    "    });\n",
    "'''\n",
    "print(q)\n",
    "\n",
    "gds.run_cypher(q)"
   ]
  },
  {
   "cell_type": "markdown",
   "id": "ecb2a023",
   "metadata": {},
   "source": [
    "# Add Betweenness Centrality Feature"
   ]
  },
  {
   "cell_type": "code",
   "execution_count": 30,
   "id": "59c30c47",
   "metadata": {},
   "outputs": [
    {
     "name": "stdout",
     "output_type": "stream",
     "text": [
      "\n",
      "CALL gds.beta.pipeline.linkPrediction.addNodeProperty('pipe', 'betweenness', {\n",
      "    mutateProperty: 'betweenness'\n",
      "    });\n",
      "    \n"
     ]
    },
    {
     "data": {
      "text/html": [
       "<div>\n",
       "<style scoped>\n",
       "    .dataframe tbody tr th:only-of-type {\n",
       "        vertical-align: middle;\n",
       "    }\n",
       "\n",
       "    .dataframe tbody tr th {\n",
       "        vertical-align: top;\n",
       "    }\n",
       "\n",
       "    .dataframe thead th {\n",
       "        text-align: right;\n",
       "    }\n",
       "</style>\n",
       "<table border=\"1\" class=\"dataframe\">\n",
       "  <thead>\n",
       "    <tr style=\"text-align: right;\">\n",
       "      <th></th>\n",
       "      <th>name</th>\n",
       "      <th>nodePropertySteps</th>\n",
       "      <th>featureSteps</th>\n",
       "      <th>splitConfig</th>\n",
       "      <th>autoTuningConfig</th>\n",
       "      <th>parameterSpace</th>\n",
       "    </tr>\n",
       "  </thead>\n",
       "  <tbody>\n",
       "    <tr>\n",
       "      <th>0</th>\n",
       "      <td>pipe</td>\n",
       "      <td>[{'name': 'gds.fastRP.mutate', 'config': {'randomSeed': 42, 'iterationWeights': [0.8, 1, 1, 1], 'embeddingDimension': 256, 'mutateProperty': 'embedding'}}, {'name': 'gds.pageRank.mutate', 'config': {'mutateProperty': 'pageRank'}}, {'name': 'gds.betweenness.mutate', 'config': {'mutateProperty': 'betweenness'}}]</td>\n",
       "      <td>[]</td>\n",
       "      <td>{'negativeSamplingRatio': 1.0, 'testFraction': 0.1, 'validationFolds': 3, 'trainFraction': 0.1}</td>\n",
       "      <td>{'maxTrials': 10}</td>\n",
       "      <td>{'RandomForest': [], 'LogisticRegression': []}</td>\n",
       "    </tr>\n",
       "  </tbody>\n",
       "</table>\n",
       "</div>"
      ],
      "text/plain": [
       "   name  \\\n",
       "0  pipe   \n",
       "\n",
       "                                                                                                                                                                                                                                                                                                         nodePropertySteps  \\\n",
       "0  [{'name': 'gds.fastRP.mutate', 'config': {'randomSeed': 42, 'iterationWeights': [0.8, 1, 1, 1], 'embeddingDimension': 256, 'mutateProperty': 'embedding'}}, {'name': 'gds.pageRank.mutate', 'config': {'mutateProperty': 'pageRank'}}, {'name': 'gds.betweenness.mutate', 'config': {'mutateProperty': 'betweenness'}}]   \n",
       "\n",
       "  featureSteps  \\\n",
       "0           []   \n",
       "\n",
       "                                                                                       splitConfig  \\\n",
       "0  {'negativeSamplingRatio': 1.0, 'testFraction': 0.1, 'validationFolds': 3, 'trainFraction': 0.1}   \n",
       "\n",
       "    autoTuningConfig                                  parameterSpace  \n",
       "0  {'maxTrials': 10}  {'RandomForest': [], 'LogisticRegression': []}  "
      ]
     },
     "execution_count": 30,
     "metadata": {},
     "output_type": "execute_result"
    }
   ],
   "source": [
    "q = '''\n",
    "CALL gds.beta.pipeline.linkPrediction.addNodeProperty('pipe', 'betweenness', {\n",
    "    mutateProperty: 'betweenness'\n",
    "    });\n",
    "    '''\n",
    "print(q)\n",
    "\n",
    "gds.run_cypher(q)"
   ]
  },
  {
   "cell_type": "code",
   "execution_count": 31,
   "id": "ff93f55d",
   "metadata": {},
   "outputs": [
    {
     "name": "stdout",
     "output_type": "stream",
     "text": [
      "\n",
      "CALL gds.beta.pipeline.linkPrediction.addFeature('pipe', 'hadamard', {\n",
      "    nodeProperties: ['embedding', 'pageRank', 'betweenness']\n",
      "    }) YIELD featureSteps;\n",
      "\n"
     ]
    },
    {
     "data": {
      "text/html": [
       "<div>\n",
       "<style scoped>\n",
       "    .dataframe tbody tr th:only-of-type {\n",
       "        vertical-align: middle;\n",
       "    }\n",
       "\n",
       "    .dataframe tbody tr th {\n",
       "        vertical-align: top;\n",
       "    }\n",
       "\n",
       "    .dataframe thead th {\n",
       "        text-align: right;\n",
       "    }\n",
       "</style>\n",
       "<table border=\"1\" class=\"dataframe\">\n",
       "  <thead>\n",
       "    <tr style=\"text-align: right;\">\n",
       "      <th></th>\n",
       "      <th>featureSteps</th>\n",
       "    </tr>\n",
       "  </thead>\n",
       "  <tbody>\n",
       "    <tr>\n",
       "      <th>0</th>\n",
       "      <td>[{'name': 'HADAMARD', 'config': {'nodeProperties': ['embedding', 'pageRank', 'betweenness']}}]</td>\n",
       "    </tr>\n",
       "  </tbody>\n",
       "</table>\n",
       "</div>"
      ],
      "text/plain": [
       "                                                                                     featureSteps\n",
       "0  [{'name': 'HADAMARD', 'config': {'nodeProperties': ['embedding', 'pageRank', 'betweenness']}}]"
      ]
     },
     "execution_count": 31,
     "metadata": {},
     "output_type": "execute_result"
    }
   ],
   "source": [
    "q = '''\n",
    "CALL gds.beta.pipeline.linkPrediction.addFeature('pipe', 'hadamard', {\n",
    "    nodeProperties: ['embedding', 'pageRank', 'betweenness']\n",
    "    }) YIELD featureSteps;\n",
    "'''\n",
    "print(q)\n",
    "\n",
    "gds.run_cypher(q)"
   ]
  },
  {
   "cell_type": "markdown",
   "id": "1ff468dc",
   "metadata": {},
   "source": [
    "# Split Train Test"
   ]
  },
  {
   "cell_type": "code",
   "execution_count": 32,
   "id": "8fd3a926",
   "metadata": {},
   "outputs": [
    {
     "name": "stdout",
     "output_type": "stream",
     "text": [
      "\n",
      "CALL gds.beta.pipeline.linkPrediction.configureSplit('pipe', {\n",
      "    testFraction: 0.3,\n",
      "    trainFraction: 0.3,\n",
      "    negativeSamplingRatio: 1.33,\n",
      "    validationFolds: 7\n",
      "    }) YIELD splitConfig;\n",
      "\n"
     ]
    },
    {
     "data": {
      "text/html": [
       "<div>\n",
       "<style scoped>\n",
       "    .dataframe tbody tr th:only-of-type {\n",
       "        vertical-align: middle;\n",
       "    }\n",
       "\n",
       "    .dataframe tbody tr th {\n",
       "        vertical-align: top;\n",
       "    }\n",
       "\n",
       "    .dataframe thead th {\n",
       "        text-align: right;\n",
       "    }\n",
       "</style>\n",
       "<table border=\"1\" class=\"dataframe\">\n",
       "  <thead>\n",
       "    <tr style=\"text-align: right;\">\n",
       "      <th></th>\n",
       "      <th>splitConfig</th>\n",
       "    </tr>\n",
       "  </thead>\n",
       "  <tbody>\n",
       "    <tr>\n",
       "      <th>0</th>\n",
       "      <td>{'negativeSamplingRatio': 1.33, 'testFraction': 0.3, 'validationFolds': 7, 'trainFraction': 0.3}</td>\n",
       "    </tr>\n",
       "  </tbody>\n",
       "</table>\n",
       "</div>"
      ],
      "text/plain": [
       "                                                                                        splitConfig\n",
       "0  {'negativeSamplingRatio': 1.33, 'testFraction': 0.3, 'validationFolds': 7, 'trainFraction': 0.3}"
      ]
     },
     "execution_count": 32,
     "metadata": {},
     "output_type": "execute_result"
    }
   ],
   "source": [
    "q = '''\n",
    "CALL gds.beta.pipeline.linkPrediction.configureSplit('pipe', {\n",
    "    testFraction: 0.3,\n",
    "    trainFraction: 0.3,\n",
    "    negativeSamplingRatio: 1.33,\n",
    "    validationFolds: 7\n",
    "    }) YIELD splitConfig;\n",
    "'''\n",
    "print(q)\n",
    "\n",
    "gds.run_cypher(q)"
   ]
  },
  {
   "cell_type": "markdown",
   "id": "c65b90c4",
   "metadata": {},
   "source": [
    "# Configure LP Model Parameters"
   ]
  },
  {
   "cell_type": "code",
   "execution_count": 33,
   "id": "9f8a6bbc",
   "metadata": {},
   "outputs": [],
   "source": [
    "q1 = '''\n",
    "CALL gds.beta.pipeline.linkPrediction.addLogisticRegression(\n",
    "    'pipe',\n",
    "    {penalty: 0.001, tolerance: 0.01,  maxEpochs: 500})\n",
    "YIELD parameterSpace;\n",
    "'''\n",
    "\n",
    "q2 = '''\n",
    "CALL gds.beta.pipeline.linkPrediction.addLogisticRegression('pipe', {\n",
    "    penalty: 0,\n",
    "    tolerance: 0.001,\n",
    "    maxEpochs: 500\n",
    "    }) YIELD parameterSpace;\n",
    "    '''\n",
    "\n",
    "q3 = '''\n",
    "CALL gds.beta.pipeline.linkPrediction.addLogisticRegression('pipe', {\n",
    "    penalty: 0,\n",
    "    tolerance: 0.01,\n",
    "    maxEpochs: 500\n",
    "    }) YIELD parameterSpace;\n",
    "    '''\n",
    "\n",
    "q4 = '''\n",
    "CALL gds.beta.pipeline.linkPrediction.addLogisticRegression('pipe', {\n",
    "    penalty: 0.01,\n",
    "    tolerance: 0.001,\n",
    "    maxEpochs: 500\n",
    "    }) YIELD parameterSpace;\n",
    "    '''\n",
    "\n",
    "q5 = '''\n",
    "CALL gds.beta.pipeline.linkPrediction.addLogisticRegression('pipe', {\n",
    "    penalty: 0.01,\n",
    "    tolerance: 0.01,\n",
    "    maxEpochs: 500\n",
    "    }) YIELD parameterSpace;\n",
    "    '''\n",
    "\n",
    "q6 = '''\n",
    "CALL gds.beta.pipeline.linkPrediction.addLogisticRegression('pipe', {\n",
    "    penalty: 0.1,\n",
    "    tolerance: 0.001,\n",
    "    maxEpochs: 500\n",
    "    }) YIELD parameterSpace;\n",
    "    '''\n",
    "\n",
    "q7 = '''\n",
    "CALL gds.beta.pipeline.linkPrediction.addLogisticRegression('pipe', {\n",
    "    penalty: 0.1,\n",
    "    tolerance: 0.01,\n",
    "    maxEpochs: 500\n",
    "    }) YIELD parameterSpace;\n",
    "    '''"
   ]
  },
  {
   "cell_type": "code",
   "execution_count": 34,
   "id": "d1115374",
   "metadata": {},
   "outputs": [
    {
     "name": "stdout",
     "output_type": "stream",
     "text": [
      "\n",
      "CALL gds.beta.pipeline.linkPrediction.addLogisticRegression(\n",
      "    'pipe',\n",
      "    {penalty: 0.001, tolerance: 0.01,  maxEpochs: 500})\n",
      "YIELD parameterSpace;\n",
      "\n",
      "\n",
      "CALL gds.beta.pipeline.linkPrediction.addLogisticRegression('pipe', {\n",
      "    penalty: 0,\n",
      "    tolerance: 0.001,\n",
      "    maxEpochs: 500\n",
      "    }) YIELD parameterSpace;\n",
      "    \n",
      "\n",
      "CALL gds.beta.pipeline.linkPrediction.addLogisticRegression('pipe', {\n",
      "    penalty: 0,\n",
      "    tolerance: 0.01,\n",
      "    maxEpochs: 500\n",
      "    }) YIELD parameterSpace;\n",
      "    \n",
      "\n",
      "CALL gds.beta.pipeline.linkPrediction.addLogisticRegression('pipe', {\n",
      "    penalty: 0.01,\n",
      "    tolerance: 0.001,\n",
      "    maxEpochs: 500\n",
      "    }) YIELD parameterSpace;\n",
      "    \n",
      "\n",
      "CALL gds.beta.pipeline.linkPrediction.addLogisticRegression('pipe', {\n",
      "    penalty: 0.01,\n",
      "    tolerance: 0.01,\n",
      "    maxEpochs: 500\n",
      "    }) YIELD parameterSpace;\n",
      "    \n",
      "\n",
      "CALL gds.beta.pipeline.linkPrediction.addLogisticRegression('pipe', {\n",
      "    penalty: 0.1,\n",
      "    tolerance: 0.001,\n",
      "    maxEpochs: 500\n",
      "    }) YIELD parameterSpace;\n",
      "    \n",
      "\n",
      "CALL gds.beta.pipeline.linkPrediction.addLogisticRegression('pipe', {\n",
      "    penalty: 0.1,\n",
      "    tolerance: 0.01,\n",
      "    maxEpochs: 500\n",
      "    }) YIELD parameterSpace;\n",
      "    \n"
     ]
    },
    {
     "data": {
      "text/html": [
       "<div>\n",
       "<style scoped>\n",
       "    .dataframe tbody tr th:only-of-type {\n",
       "        vertical-align: middle;\n",
       "    }\n",
       "\n",
       "    .dataframe tbody tr th {\n",
       "        vertical-align: top;\n",
       "    }\n",
       "\n",
       "    .dataframe thead th {\n",
       "        text-align: right;\n",
       "    }\n",
       "</style>\n",
       "<table border=\"1\" class=\"dataframe\">\n",
       "  <thead>\n",
       "    <tr style=\"text-align: right;\">\n",
       "      <th></th>\n",
       "      <th>parameterSpace</th>\n",
       "    </tr>\n",
       "  </thead>\n",
       "  <tbody>\n",
       "    <tr>\n",
       "      <th>0</th>\n",
       "      <td>{'RandomForest': [], 'LogisticRegression': [{'maxEpochs': 500, 'minEpochs': 1, 'penalty': 0.001, 'patience': 1, 'methodName': 'LogisticRegression', 'batchSize': 100, 'tolerance': 0.01, 'learningRate': 0.001}, {'maxEpochs': 500, 'minEpochs': 1, 'penalty': 0, 'patience': 1, 'methodName': 'LogisticRegression', 'batchSize': 100, 'tolerance': 0.001, 'learningRate': 0.001}, {'maxEpochs': 500, 'minEpochs': 1, 'penalty': 0, 'patience': 1, 'methodName': 'LogisticRegression', 'batchSize': 100, 'tolerance': 0.01, 'learningRate': 0.001}, {'maxEpochs': 500, 'minEpochs': 1, 'penalty': 0.01, 'patience': 1, 'methodName': 'LogisticRegression', 'batchSize': 100, 'tolerance': 0.001, 'learningRate': 0.001}, {'maxEpochs': 500, 'minEpochs': 1, 'penalty': 0.01, 'patience': 1, 'methodName': 'LogisticRegression', 'batchSize': 100, 'tolerance': 0.01, 'learningRate': 0.001}, {'maxEpochs': 500, 'minEpochs': 1, 'penalty': 0.1, 'patience': 1, 'methodName': 'LogisticRegression', 'batchSize': 100, 'tolerance': 0.001, 'learningRate': 0.001}, {'maxEpochs': 500, 'minEpochs': 1, 'penalty': 0.1, 'patience': 1, 'methodName': 'LogisticRegression', 'batchSize': 100, 'tolerance': 0.01, 'learningRate': 0.001}]}</td>\n",
       "    </tr>\n",
       "  </tbody>\n",
       "</table>\n",
       "</div>"
      ],
      "text/plain": [
       "                                                                                                                                                                                                                                                                                                                                                                                                                                                                                                                                                                                                                                                                                                                                                                                                                                                                                                                                                                                                                                                                                                                                                                                                                         parameterSpace\n",
       "0  {'RandomForest': [], 'LogisticRegression': [{'maxEpochs': 500, 'minEpochs': 1, 'penalty': 0.001, 'patience': 1, 'methodName': 'LogisticRegression', 'batchSize': 100, 'tolerance': 0.01, 'learningRate': 0.001}, {'maxEpochs': 500, 'minEpochs': 1, 'penalty': 0, 'patience': 1, 'methodName': 'LogisticRegression', 'batchSize': 100, 'tolerance': 0.001, 'learningRate': 0.001}, {'maxEpochs': 500, 'minEpochs': 1, 'penalty': 0, 'patience': 1, 'methodName': 'LogisticRegression', 'batchSize': 100, 'tolerance': 0.01, 'learningRate': 0.001}, {'maxEpochs': 500, 'minEpochs': 1, 'penalty': 0.01, 'patience': 1, 'methodName': 'LogisticRegression', 'batchSize': 100, 'tolerance': 0.001, 'learningRate': 0.001}, {'maxEpochs': 500, 'minEpochs': 1, 'penalty': 0.01, 'patience': 1, 'methodName': 'LogisticRegression', 'batchSize': 100, 'tolerance': 0.01, 'learningRate': 0.001}, {'maxEpochs': 500, 'minEpochs': 1, 'penalty': 0.1, 'patience': 1, 'methodName': 'LogisticRegression', 'batchSize': 100, 'tolerance': 0.001, 'learningRate': 0.001}, {'maxEpochs': 500, 'minEpochs': 1, 'penalty': 0.1, 'patience': 1, 'methodName': 'LogisticRegression', 'batchSize': 100, 'tolerance': 0.01, 'learningRate': 0.001}]}"
      ]
     },
     "execution_count": 34,
     "metadata": {},
     "output_type": "execute_result"
    }
   ],
   "source": [
    "# Execute LP Model Params\n",
    "print(q1)\n",
    "gds.run_cypher(q1)\n",
    "\n",
    "print(q2)\n",
    "gds.run_cypher(q2)\n",
    "\n",
    "print(q3)\n",
    "gds.run_cypher(q3)\n",
    "\n",
    "print(q4)\n",
    "gds.run_cypher(q4)\n",
    "\n",
    "print(q5)\n",
    "gds.run_cypher(q5)\n",
    "\n",
    "print(q6)\n",
    "gds.run_cypher(q6)\n",
    "\n",
    "print(q7)\n",
    "gds.run_cypher(q7)"
   ]
  },
  {
   "cell_type": "markdown",
   "id": "37734834",
   "metadata": {},
   "source": [
    "# Create Graph Projection"
   ]
  },
  {
   "cell_type": "code",
   "execution_count": 36,
   "id": "2e75b8ed",
   "metadata": {},
   "outputs": [
    {
     "name": "stdout",
     "output_type": "stream",
     "text": [
      "\n",
      "CALL gds.graph.project('compound', \n",
      "    ['Compound', 'Disease'],\n",
      "    {TREATS_CtD: {orientation: 'UNDIRECTED'}});\n",
      "\n"
     ]
    },
    {
     "data": {
      "text/html": [
       "<div>\n",
       "<style scoped>\n",
       "    .dataframe tbody tr th:only-of-type {\n",
       "        vertical-align: middle;\n",
       "    }\n",
       "\n",
       "    .dataframe tbody tr th {\n",
       "        vertical-align: top;\n",
       "    }\n",
       "\n",
       "    .dataframe thead th {\n",
       "        text-align: right;\n",
       "    }\n",
       "</style>\n",
       "<table border=\"1\" class=\"dataframe\">\n",
       "  <thead>\n",
       "    <tr style=\"text-align: right;\">\n",
       "      <th></th>\n",
       "      <th>nodeProjection</th>\n",
       "      <th>relationshipProjection</th>\n",
       "      <th>graphName</th>\n",
       "      <th>nodeCount</th>\n",
       "      <th>relationshipCount</th>\n",
       "      <th>projectMillis</th>\n",
       "    </tr>\n",
       "  </thead>\n",
       "  <tbody>\n",
       "    <tr>\n",
       "      <th>0</th>\n",
       "      <td>{'Disease': {'label': 'Disease', 'properties': {}}, 'Compound': {'label': 'Compound', 'properties': {}}}</td>\n",
       "      <td>{'TREATS_CtD': {'orientation': 'UNDIRECTED', 'aggregation': 'DEFAULT', 'type': 'TREATS_CtD', 'properties': {}}}</td>\n",
       "      <td>compound</td>\n",
       "      <td>1571</td>\n",
       "      <td>1392</td>\n",
       "      <td>32</td>\n",
       "    </tr>\n",
       "  </tbody>\n",
       "</table>\n",
       "</div>"
      ],
      "text/plain": [
       "                                                                                             nodeProjection  \\\n",
       "0  {'Disease': {'label': 'Disease', 'properties': {}}, 'Compound': {'label': 'Compound', 'properties': {}}}   \n",
       "\n",
       "                                                                                            relationshipProjection  \\\n",
       "0  {'TREATS_CtD': {'orientation': 'UNDIRECTED', 'aggregation': 'DEFAULT', 'type': 'TREATS_CtD', 'properties': {}}}   \n",
       "\n",
       "  graphName  nodeCount  relationshipCount  projectMillis  \n",
       "0  compound       1571               1392             32  "
      ]
     },
     "execution_count": 36,
     "metadata": {},
     "output_type": "execute_result"
    }
   ],
   "source": [
    "# Drop in memory projection (if exists)\n",
    "gds.run_cypher('call gds.graph.drop(\"compound\");')\n",
    "\n",
    "################################################################\n",
    "# Create in-memory graph of (:Compound)-[:TREATS_CtD]-(:Disease)\n",
    "q = '''\n",
    "CALL gds.graph.project('compound', \n",
    "    ['Compound', 'Disease'],\n",
    "    {TREATS_CtD: {orientation: 'UNDIRECTED'}});\n",
    "'''\n",
    "print(q)\n",
    "\n",
    "gds.run_cypher(q)"
   ]
  },
  {
   "cell_type": "markdown",
   "id": "a48497cf",
   "metadata": {},
   "source": [
    "# Train Link Prediction Model"
   ]
  },
  {
   "cell_type": "code",
   "execution_count": 65,
   "id": "2dac7c47",
   "metadata": {},
   "outputs": [
    {
     "data": {
      "text/html": [
       "<div>\n",
       "<style scoped>\n",
       "    .dataframe tbody tr th:only-of-type {\n",
       "        vertical-align: middle;\n",
       "    }\n",
       "\n",
       "    .dataframe tbody tr th {\n",
       "        vertical-align: top;\n",
       "    }\n",
       "\n",
       "    .dataframe thead th {\n",
       "        text-align: right;\n",
       "    }\n",
       "</style>\n",
       "<table border=\"1\" class=\"dataframe\">\n",
       "  <thead>\n",
       "    <tr style=\"text-align: right;\">\n",
       "      <th></th>\n",
       "      <th>modelName</th>\n",
       "    </tr>\n",
       "  </thead>\n",
       "  <tbody>\n",
       "    <tr>\n",
       "      <th>0</th>\n",
       "      <td>lp-pipeline-model</td>\n",
       "    </tr>\n",
       "  </tbody>\n",
       "</table>\n",
       "</div>"
      ],
      "text/plain": [
       "           modelName\n",
       "0  lp-pipeline-model"
      ]
     },
     "execution_count": 65,
     "metadata": {},
     "output_type": "execute_result"
    }
   ],
   "source": [
    "gds.run_cypher(\"call gds.alpha.pipeline.drop('lp-pipeline-model')\")\n",
    "\n",
    "gds.run_cypher(\"call gds.alpha.model.load('lp-pipeline-model') YIELD modelName\")\n",
    "\n",
    "gds.run_cypher(\"call gds.beta.pipeline.list()\")\n",
    "\n",
    "q = '''\n",
    "CALL gds.beta.pipeline.linkPrediction.train('compound', {\n",
    "    pipeline: 'pipe',\n",
    "    modelName: 'lp-pipeline-model',\n",
    "    randomSeed: 42\n",
    "    }) YIELD modelInfo\n",
    "RETURN modelInfo.bestParameters AS winningModel,\n",
    "       modelInfo.metrics.AUCPR.outerTrain AS trainGraphScore,\n",
    "       modelInfo.metrics.AUCPR.test AS testGraphScore;\n",
    "'''\n",
    "print(q)\n",
    "\n",
    "gds.run_cypher(q)"
   ]
  },
  {
   "cell_type": "markdown",
   "id": "b1f9075c",
   "metadata": {},
   "source": [
    "# Stream Results"
   ]
  },
  {
   "cell_type": "code",
   "execution_count": 66,
   "id": "84566003",
   "metadata": {},
   "outputs": [
    {
     "name": "stdout",
     "output_type": "stream",
     "text": [
      "\n",
      "CALL gds.beta.pipeline.linkPrediction.predict.stream('compound', {\n",
      "    modelName: 'lp-pipeline-model',\n",
      "    topN: 5,\n",
      "    threshold: 0.2\n",
      "    }) YIELD node1, node2, probability \n",
      "RETURN gds.util.asNode(node1).id AS n1, \n",
      "       gds.util.asNode(node2).id AS n2, \n",
      "       probability\n",
      "ORDER BY probability DESC, n1;\n",
      "\n"
     ]
    }
   ],
   "source": [
    "q = '''\n",
    "CALL gds.beta.pipeline.linkPrediction.predict.stream('compound', {\n",
    "    modelName: 'lp-pipeline-model',\n",
    "    topN: 5,\n",
    "    threshold: 0.2\n",
    "    }) YIELD node1, node2, probability \n",
    "RETURN gds.util.asNode(node1).id AS n1, \n",
    "       gds.util.asNode(node2).id AS n2, \n",
    "       probability\n",
    "ORDER BY probability DESC, n1;\n",
    "'''\n",
    "print(q)\n",
    "\n",
    "results = gds.run_cypher(q)\n",
    "\n",
    "df = pd.DataFrame(data=results)"
   ]
  },
  {
   "cell_type": "code",
   "execution_count": 68,
   "id": "24bb4b9a",
   "metadata": {},
   "outputs": [
    {
     "data": {
      "text/plain": [
       "0    0.519388\n",
       "1    0.519341\n",
       "2    0.519155\n",
       "3    0.519144\n",
       "4    0.519141\n",
       "Name: probability, dtype: float64"
      ]
     },
     "execution_count": 68,
     "metadata": {},
     "output_type": "execute_result"
    }
   ],
   "source": [
    "df.probability"
   ]
  },
  {
   "cell_type": "markdown",
   "id": "3d905c64",
   "metadata": {},
   "source": [
    "# Write Predictions to Projected Graph"
   ]
  },
  {
   "cell_type": "code",
   "execution_count": 69,
   "id": "5f873067",
   "metadata": {},
   "outputs": [
    {
     "name": "stdout",
     "output_type": "stream",
     "text": [
      "\n",
      "CALL gds.beta.pipeline.linkPrediction.predict.mutate('compound', {\n",
      "    modelName: 'lp-pipeline-model',\n",
      "    relationshipTypes: ['TREATS_CtD'],\n",
      "    mutateRelationshipType: 'TREATS_CtD_EXHAUSTIVE_PREDICTED',\n",
      "    topN: 5,\n",
      "    threshold: 0.45\n",
      "    }) YIELD relationshipsWritten, samplingStats;\n",
      "\n"
     ]
    },
    {
     "data": {
      "text/html": [
       "<div>\n",
       "<style scoped>\n",
       "    .dataframe tbody tr th:only-of-type {\n",
       "        vertical-align: middle;\n",
       "    }\n",
       "\n",
       "    .dataframe tbody tr th {\n",
       "        vertical-align: top;\n",
       "    }\n",
       "\n",
       "    .dataframe thead th {\n",
       "        text-align: right;\n",
       "    }\n",
       "</style>\n",
       "<table border=\"1\" class=\"dataframe\">\n",
       "  <thead>\n",
       "    <tr style=\"text-align: right;\">\n",
       "      <th></th>\n",
       "      <th>relationshipsWritten</th>\n",
       "      <th>samplingStats</th>\n",
       "    </tr>\n",
       "  </thead>\n",
       "  <tbody>\n",
       "    <tr>\n",
       "      <th>0</th>\n",
       "      <td>10</td>\n",
       "      <td>{'linksConsidered': 1232539, 'strategy': 'exhaustive'}</td>\n",
       "    </tr>\n",
       "  </tbody>\n",
       "</table>\n",
       "</div>"
      ],
      "text/plain": [
       "   relationshipsWritten  \\\n",
       "0                    10   \n",
       "\n",
       "                                            samplingStats  \n",
       "0  {'linksConsidered': 1232539, 'strategy': 'exhaustive'}  "
      ]
     },
     "execution_count": 69,
     "metadata": {},
     "output_type": "execute_result"
    }
   ],
   "source": [
    "q = '''\n",
    "CALL gds.beta.pipeline.linkPrediction.predict.mutate('compound', {\n",
    "    modelName: 'lp-pipeline-model',\n",
    "    relationshipTypes: ['TREATS_CtD'],\n",
    "    mutateRelationshipType: 'TREATS_CtD_EXHAUSTIVE_PREDICTED',\n",
    "    topN: 5,\n",
    "    threshold: 0.45\n",
    "    }) YIELD relationshipsWritten, samplingStats;\n",
    "'''\n",
    "print(q)\n",
    "\n",
    "gds.run_cypher(q)"
   ]
  },
  {
   "cell_type": "code",
   "execution_count": 70,
   "id": "ae129e6c",
   "metadata": {},
   "outputs": [
    {
     "name": "stdout",
     "output_type": "stream",
     "text": [
      "\n",
      "CALL gds.beta.pipeline.linkPrediction.predict.mutate('compound', {\n",
      "    modelName: 'lp-pipeline-model',\n",
      "    relationshipTypes: ['TREATS_CtD'],\n",
      "    mutateRelationshipType: 'TREATS_CtD_APPROX_PREDICTED',\n",
      "    sampleRate: 0.5,\n",
      "    topK: 1,\n",
      "    randomJoins: 2,\n",
      "    maxIterations: 3,\n",
      "    // necessary for deterministic results\n",
      "    concurrency: 1,\n",
      "    randomSeed: 42\n",
      "    }) YIELD relationshipsWritten, samplingStats;\n",
      "\n"
     ]
    },
    {
     "data": {
      "text/html": [
       "<div>\n",
       "<style scoped>\n",
       "    .dataframe tbody tr th:only-of-type {\n",
       "        vertical-align: middle;\n",
       "    }\n",
       "\n",
       "    .dataframe tbody tr th {\n",
       "        vertical-align: top;\n",
       "    }\n",
       "\n",
       "    .dataframe thead th {\n",
       "        text-align: right;\n",
       "    }\n",
       "</style>\n",
       "<table border=\"1\" class=\"dataframe\">\n",
       "  <thead>\n",
       "    <tr style=\"text-align: right;\">\n",
       "      <th></th>\n",
       "      <th>relationshipsWritten</th>\n",
       "      <th>samplingStats</th>\n",
       "    </tr>\n",
       "  </thead>\n",
       "  <tbody>\n",
       "    <tr>\n",
       "      <th>0</th>\n",
       "      <td>3142</td>\n",
       "      <td>{'linksConsidered': 15141, 'didConverge': False, 'strategy': 'approximate', 'ranIterations': 3}</td>\n",
       "    </tr>\n",
       "  </tbody>\n",
       "</table>\n",
       "</div>"
      ],
      "text/plain": [
       "   relationshipsWritten  \\\n",
       "0                  3142   \n",
       "\n",
       "                                                                                     samplingStats  \n",
       "0  {'linksConsidered': 15141, 'didConverge': False, 'strategy': 'approximate', 'ranIterations': 3}  "
      ]
     },
     "execution_count": 70,
     "metadata": {},
     "output_type": "execute_result"
    }
   ],
   "source": [
    "q = '''\n",
    "CALL gds.beta.pipeline.linkPrediction.predict.mutate('compound', {\n",
    "    modelName: 'lp-pipeline-model',\n",
    "    relationshipTypes: ['TREATS_CtD'],\n",
    "    mutateRelationshipType: 'TREATS_CtD_APPROX_PREDICTED',\n",
    "    sampleRate: 0.5,\n",
    "    topK: 1,\n",
    "    randomJoins: 2,\n",
    "    maxIterations: 3,\n",
    "    // necessary for deterministic results\n",
    "    concurrency: 1,\n",
    "    randomSeed: 42\n",
    "    }) YIELD relationshipsWritten, samplingStats;\n",
    "'''\n",
    "print(q)\n",
    "\n",
    "gds.run_cypher(q)"
   ]
  },
  {
   "cell_type": "markdown",
   "id": "80ffb35d",
   "metadata": {},
   "source": [
    "# Save Model To Disk"
   ]
  },
  {
   "cell_type": "code",
   "execution_count": 71,
   "id": "bf309aae",
   "metadata": {},
   "outputs": [
    {
     "name": "stdout",
     "output_type": "stream",
     "text": [
      "\n",
      "CALL gds.alpha.model.store('lp-pipeline-model') \n",
      "YIELD modelName, storeMillis;\n",
      "\n"
     ]
    },
    {
     "data": {
      "text/html": [
       "<div>\n",
       "<style scoped>\n",
       "    .dataframe tbody tr th:only-of-type {\n",
       "        vertical-align: middle;\n",
       "    }\n",
       "\n",
       "    .dataframe tbody tr th {\n",
       "        vertical-align: top;\n",
       "    }\n",
       "\n",
       "    .dataframe thead th {\n",
       "        text-align: right;\n",
       "    }\n",
       "</style>\n",
       "<table border=\"1\" class=\"dataframe\">\n",
       "  <thead>\n",
       "    <tr style=\"text-align: right;\">\n",
       "      <th></th>\n",
       "      <th>modelName</th>\n",
       "      <th>storeMillis</th>\n",
       "    </tr>\n",
       "  </thead>\n",
       "  <tbody>\n",
       "    <tr>\n",
       "      <th>0</th>\n",
       "      <td>lp-pipeline-model</td>\n",
       "      <td>926</td>\n",
       "    </tr>\n",
       "  </tbody>\n",
       "</table>\n",
       "</div>"
      ],
      "text/plain": [
       "           modelName  storeMillis\n",
       "0  lp-pipeline-model          926"
      ]
     },
     "execution_count": 71,
     "metadata": {},
     "output_type": "execute_result"
    }
   ],
   "source": [
    "q = '''\n",
    "CALL gds.alpha.model.store('lp-pipeline-model') \n",
    "YIELD modelName, storeMillis;\n",
    "'''\n",
    "print(q)\n",
    "\n",
    "gds.run_cypher(q)"
   ]
  },
  {
   "cell_type": "markdown",
   "id": "9bc24656",
   "metadata": {},
   "source": [
    "# Load Model From Disk"
   ]
  },
  {
   "cell_type": "code",
   "execution_count": 73,
   "id": "c9e434f3",
   "metadata": {},
   "outputs": [
    {
     "name": "stdout",
     "output_type": "stream",
     "text": [
      "\n",
      "CALL gds.alpha.model.load('lp-pipeline-model')\n",
      "YIELD\n",
      "  modelName,\n",
      "  loadMillis;\n",
      "\n"
     ]
    },
    {
     "data": {
      "text/html": [
       "<div>\n",
       "<style scoped>\n",
       "    .dataframe tbody tr th:only-of-type {\n",
       "        vertical-align: middle;\n",
       "    }\n",
       "\n",
       "    .dataframe tbody tr th {\n",
       "        vertical-align: top;\n",
       "    }\n",
       "\n",
       "    .dataframe thead th {\n",
       "        text-align: right;\n",
       "    }\n",
       "</style>\n",
       "<table border=\"1\" class=\"dataframe\">\n",
       "  <thead>\n",
       "    <tr style=\"text-align: right;\">\n",
       "      <th></th>\n",
       "      <th>modelName</th>\n",
       "      <th>loadMillis</th>\n",
       "    </tr>\n",
       "  </thead>\n",
       "  <tbody>\n",
       "    <tr>\n",
       "      <th>0</th>\n",
       "      <td>lp-pipeline-model</td>\n",
       "      <td>0</td>\n",
       "    </tr>\n",
       "  </tbody>\n",
       "</table>\n",
       "</div>"
      ],
      "text/plain": [
       "           modelName  loadMillis\n",
       "0  lp-pipeline-model           0"
      ]
     },
     "execution_count": 73,
     "metadata": {},
     "output_type": "execute_result"
    }
   ],
   "source": [
    "q = '''\n",
    "CALL gds.alpha.model.load('lp-pipeline-model')\n",
    "YIELD\n",
    "  modelName,\n",
    "  loadMillis;\n",
    "'''\n",
    "print(q)\n",
    "gds.run_cypher(q)"
   ]
  },
  {
   "cell_type": "markdown",
   "id": "c5a4ecd9",
   "metadata": {},
   "source": [
    "### Done"
   ]
  },
  {
   "cell_type": "markdown",
   "id": "a73a3f5f",
   "metadata": {},
   "source": [
    "# Misc Path Finding Graph Algos"
   ]
  },
  {
   "cell_type": "code",
   "execution_count": 74,
   "id": "866671d0",
   "metadata": {},
   "outputs": [
    {
     "name": "stdout",
     "output_type": "stream",
     "text": [
      "\n",
      "MATCH (source:Compound {name: 'Amphetamine'}), (target:Disease {name: 'urinary bladder cancer'})\n",
      "CALL gds.shortestPath.dijkstra.stream('compound', {\n",
      "    sourceNode: source,\n",
      "    targetNode: target\n",
      "    })\n",
      "YIELD index, sourceNode, targetNode, totalCost, nodeIds, costs, path\n",
      "RETURN\n",
      "    index,\n",
      "    gds.util.asNode(sourceNode).name AS sourceNodeName,\n",
      "    gds.util.asNode(targetNode).name AS targetNodeName,\n",
      "    totalCost,\n",
      "    [nodeId IN nodeIds | gds.util.asNode(nodeId).name] AS nodeNames,\n",
      "    costs,\n",
      "    nodes(path) as path\n",
      "ORDER BY index;\n",
      "\n"
     ]
    },
    {
     "data": {
      "text/html": [
       "<div>\n",
       "<style scoped>\n",
       "    .dataframe tbody tr th:only-of-type {\n",
       "        vertical-align: middle;\n",
       "    }\n",
       "\n",
       "    .dataframe tbody tr th {\n",
       "        vertical-align: top;\n",
       "    }\n",
       "\n",
       "    .dataframe thead th {\n",
       "        text-align: right;\n",
       "    }\n",
       "</style>\n",
       "<table border=\"1\" class=\"dataframe\">\n",
       "  <thead>\n",
       "    <tr style=\"text-align: right;\">\n",
       "      <th></th>\n",
       "      <th>index</th>\n",
       "      <th>sourceNodeName</th>\n",
       "      <th>targetNodeName</th>\n",
       "      <th>totalCost</th>\n",
       "      <th>nodeNames</th>\n",
       "      <th>costs</th>\n",
       "      <th>path</th>\n",
       "    </tr>\n",
       "  </thead>\n",
       "  <tbody>\n",
       "    <tr>\n",
       "      <th>0</th>\n",
       "      <td>0</td>\n",
       "      <td>Amphetamine</td>\n",
       "      <td>urinary bladder cancer</td>\n",
       "      <td>7.0</td>\n",
       "      <td>[Amphetamine, Zidovudine, acquired immunodeficiency syndrome, Nevirapine, Prednisone, psoriatic arthritis, Methotrexate, urinary bladder cancer]</td>\n",
       "      <td>[0.0, 1.0, 2.0, 3.0, 4.0, 5.0, 6.0, 7.0]</td>\n",
       "      <td>[(name, Id, cui), (name, Id, cui), (name, Id, cui), (name, Id, cui), (name, Id, cui), (name, Id, cui), (name, Id, cui), (name, Id, cui)]</td>\n",
       "    </tr>\n",
       "  </tbody>\n",
       "</table>\n",
       "</div>"
      ],
      "text/plain": [
       "   index sourceNodeName          targetNodeName  totalCost  \\\n",
       "0      0    Amphetamine  urinary bladder cancer        7.0   \n",
       "\n",
       "                                                                                                                                          nodeNames  \\\n",
       "0  [Amphetamine, Zidovudine, acquired immunodeficiency syndrome, Nevirapine, Prednisone, psoriatic arthritis, Methotrexate, urinary bladder cancer]   \n",
       "\n",
       "                                      costs  \\\n",
       "0  [0.0, 1.0, 2.0, 3.0, 4.0, 5.0, 6.0, 7.0]   \n",
       "\n",
       "                                                                                                                                       path  \n",
       "0  [(name, Id, cui), (name, Id, cui), (name, Id, cui), (name, Id, cui), (name, Id, cui), (name, Id, cui), (name, Id, cui), (name, Id, cui)]  "
      ]
     },
     "execution_count": 74,
     "metadata": {},
     "output_type": "execute_result"
    }
   ],
   "source": [
    "q = '''\n",
    "MATCH (source:Compound {name: 'Amphetamine'}), (target:Disease {name: 'urinary bladder cancer'})\n",
    "CALL gds.shortestPath.dijkstra.stream('compound', {\n",
    "    sourceNode: source,\n",
    "    targetNode: target\n",
    "    })\n",
    "YIELD index, sourceNode, targetNode, totalCost, nodeIds, costs, path\n",
    "RETURN\n",
    "    index,\n",
    "    gds.util.asNode(sourceNode).name AS sourceNodeName,\n",
    "    gds.util.asNode(targetNode).name AS targetNodeName,\n",
    "    totalCost,\n",
    "    [nodeId IN nodeIds | gds.util.asNode(nodeId).name] AS nodeNames,\n",
    "    costs,\n",
    "    nodes(path) as path\n",
    "ORDER BY index;\n",
    "'''\n",
    "print(q)\n",
    "\n",
    "gds.run_cypher(q)"
   ]
  }
 ],
 "metadata": {
  "kernelspec": {
   "display_name": "tf",
   "language": "python",
   "name": "tf"
  },
  "language_info": {
   "codemirror_mode": {
    "name": "ipython",
    "version": 3
   },
   "file_extension": ".py",
   "mimetype": "text/x-python",
   "name": "python",
   "nbconvert_exporter": "python",
   "pygments_lexer": "ipython3",
   "version": "3.9.13"
  }
 },
 "nbformat": 4,
 "nbformat_minor": 5
}
